{
  "nbformat": 4,
  "nbformat_minor": 0,
  "metadata": {
    "colab": {
      "name": "ISR simplified.ipynb",
      "provenance": [],
      "collapsed_sections": []
    },
    "kernelspec": {
      "name": "python3",
      "display_name": "Python 3"
    }
  },
  "cells": [
    {
      "cell_type": "markdown",
      "metadata": {
        "id": "JmYo4gKj4ntS",
        "colab_type": "text"
      },
      "source": [
        "<h2>The goal of this project is to upscale and improve the quality of low resolution images.</h2>\n",
        "<p>Docs: <a href = \"https://idealo.github.io/image-super-resolution/\">https://idealo.github.io/image-super-resolution/</a></p>\n",
        "Original Notebook: <a href = \"https://colab.research.google.com/github/idealo/image-super-resolution/blob/master/notebooks/ISR_Prediction_Tutorial.ipynb\">https://colab.research.google.com/github/idealo/image-super-resolution/blob/master/notebooks/ISR_Prediction_Tutorial.ipynb</a>\n",
        "\n"
      ]
    },
    {
      "cell_type": "code",
      "metadata": {
        "id": "yn2qU_Gstb12",
        "colab_type": "code",
        "cellView": "form",
        "colab": {}
      },
      "source": [
        "#@title Run this cell to Setup ISR (Image Super-Resolution)\n",
        "\n",
        "#@markdown * installs ISR\n",
        "#@markdown * downloads pre-trained weights and data\n",
        "#@markdown * creates the models (RRDN GANS model, Large RDN model, Small RDN model, Large RDN noise cancelling, detail enchancing model)\n",
        "\n",
        "\n",
        "!pip -q install ISR gdown\n",
        "\n",
        "#!wget https://media.githubusercontent.com/media/idealo/image-super-resolution/master/weights/sample_weights/rdn-C6-D20-G64-G064-x2/ArtefactCancelling/rdn-C6-D20-G64-G064-x2_ArtefactCancelling_epoch219.hdf5\n",
        "#!wget https://media.githubusercontent.com/media/idealo/image-super-resolution/master/weights/sample_weights/rdn-C6-D20-G64-G064-x2/PSNR-driven/rdn-C6-D20-G64-G064-x2_PSNR_epoch086.hdf5\n",
        "#!wget https://media.githubusercontent.com/media/idealo/image-super-resolution/master/weights/sample_weights/rdn-C3-D10-G64-G064-x2/PSNR-driven/rdn-C3-D10-G64-G064-x2_PSNR_epoch134.hdf5\n",
        "#!wget https://media.githubusercontent.com/media/idealo/image-super-resolution/master/weights/sample_weights/rrdn-C4-D3-G32-G032-T10-x4/Perceptual/rrdn-C4-D3-G32-G032-T10-x4_epoch299.hdf5\n",
        "\n",
        "import os\n",
        "if not os.path.exists('weights/rrdn-C4-D3-G32-G032-T10-x4_epoch299.hdf'):\n",
        "  # download pretrained weights\n",
        "  import os\n",
        "  github_weights_url = 'https://github.com/AwaleSajil/ISR_weights'\n",
        "  folder_name = os.path.basename(github_weights_url)\n",
        "  !git clone $github_weights_url\n",
        "  !mv $folder_name 'weights'\n",
        "  \n",
        "\n",
        "!git clone https://github.com/AwaleSajil/ISR-Youtube-\n",
        "\n",
        "\n",
        "from ISR.models import RDN, RRDN\n",
        "import numpy as np\n",
        "from PIL import Image\n",
        "import IPython.display\n",
        "\n",
        "\n",
        "rrdn_gans = RRDN(arch_params={'C': 4, 'D':3, 'G':32, 'G0':32, 'x':4, 'T': 10})\n",
        "rrdn_gans.model.load_weights('weights/rrdn-C4-D3-G32-G032-T10-x4_epoch299.hdf5')\n",
        "\n",
        "large_rdn = RDN(arch_params={'C': 6, 'D':20, 'G':64, 'G0':64, 'x':2})\n",
        "large_rdn.model.load_weights('weights/rdn-C6-D20-G64-G064-x2_PSNR_epoch086.hdf5')\n",
        "\n",
        "small_rdn = RDN(arch_params={'C': 3, 'D':10, 'G':64, 'G0':64, 'x':2})\n",
        "small_rdn.model.load_weights('weights/rdn-C3-D10-G64-G064-x2_PSNR_epoch134.hdf5')\n",
        "\n",
        "large_noise_cancelling_rdn = RDN(arch_params={'C': 6, 'D':20, 'G':64, 'G0':64, 'x':2})\n",
        "large_noise_cancelling_rdn.model.load_weights('weights/rdn-C6-D20-G64-G064-x2_ArtefactCancelling_epoch219.hdf5')"
      ],
      "execution_count": null,
      "outputs": []
    },
    {
      "cell_type": "code",
      "metadata": {
        "id": "crJZMrmkyRsB",
        "colab_type": "code",
        "cellView": "form",
        "colab": {}
      },
      "source": [
        "#@title Choose a model, specific a picture and Run this cell to get RESULTS\n",
        "\n",
        "#@markdown * Choose a model\n",
        "choice_model = 'RDN noise cancelling (C6-D20-G64-G064-x2_ArtefactCancelling_epoch219)' #@param [\"RRDN GANS (C4-D3-G32-G032-T10-x4_epoch299)\", \"Large RDN (C6-D20-G64-G064-x2_PSNR_epoch086)\", \"Small RDN (C3-D10-G64-G064-x2_PSNR_epoch134)\", \"RDN noise cancelling (C6-D20-G64-G064-x2_ArtefactCancelling_epoch219)\"]\n",
        "\n",
        "\n",
        "#@markdown * Specify an image (from internet or upload your own)\n",
        "imageURL__or__pathToImage = '' #@param {type:\"string\"}\n",
        "\n",
        "\n",
        "sourceImg = None\n",
        "def path_leaf(path):\n",
        "  import ntpath\n",
        "  head, tail = ntpath.split(path)\n",
        "  return tail or ntpath.basename(head)\n",
        "\n",
        "try:\n",
        "  sourceImg = Image.open(imageURL__or__pathToImage)\n",
        "except FileNotFoundError:\n",
        "  !wget $imageURL__or__pathToImage\n",
        "  fname = path_leaf(imageURL__or__pathToImage)\n",
        "  sourceImg = Image.open(fname)\n",
        "except:\n",
        "  raise Exception(\"Image address is incorrect\")\n",
        "\n",
        "\n",
        "if choice_model == 'RRDN GANS (C4-D3-G32-G032-T10-x4_epoch299)':\n",
        "  sr_img = rrdn_gans.predict(np.array(sourceImg))\n",
        "\n",
        "elif choice_model == 'Large RDN (C6-D20-G64-G064-x2_PSNR_epoch086)':\n",
        "  sr_img = large_rdn.predict(np.array(sourceImg))\n",
        "\n",
        "elif choice_model == 'Small RDN (C3-D10-G64-G064-x2_PSNR_epoch134)':\n",
        "  sr_img = small_rdn.predict(np.array(sourceImg))\n",
        "\n",
        "else:\n",
        "  sr_img = large_noise_cancelling_rdn.predict(np.array(sourceImg))\n",
        "\n",
        "# Image.fromarray(sr_img)\n",
        "\n",
        "\n",
        "result_img = Image.fromarray(sr_img)\n",
        "result_img.save(\"/content/result.png\")\n",
        "\n",
        "resizedOriginal = sourceImg.resize(size=(result_img.size[0], result_img.size[1]), resample=Image.BICUBIC)\n",
        "resizedOriginal.save(\"/content/original.png\")\n",
        "\n",
        "!cp '/content/result.png' '/usr/local/share/jupyter/nbextensions/result.png'\n",
        "!cp '/content/original.png' '/usr/local/share/jupyter/nbextensions/original.png'\n",
        "\n",
        "width, height = result_img.size\n",
        "\n",
        "import time\n",
        "from IPython.display import clear_output\n",
        "\n",
        "\n",
        "\n",
        "with open('/content/ISR-Youtube-/index.html','r') as file:\n",
        "    htm = file.read()\n",
        "\n",
        "html_code = htm.format(width, height)\n",
        "\n",
        "time.sleep(0.5)\n",
        "clear_output()\n",
        "display(IPython.display.HTML(html_code))"
      ],
      "execution_count": null,
      "outputs": []
    },
    {
      "cell_type": "code",
      "metadata": {
        "id": "jZscmfh2H9Ea",
        "colab_type": "code",
        "colab": {}
      },
      "source": [
        ""
      ],
      "execution_count": null,
      "outputs": []
    }
  ]
}